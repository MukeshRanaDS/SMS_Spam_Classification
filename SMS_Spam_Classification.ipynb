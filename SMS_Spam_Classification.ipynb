{
 "cells": [
  {
   "cell_type": "markdown",
   "id": "285f2676",
   "metadata": {},
   "source": [
    "https://www.kaggle.com/code/krepkiioreshek/spam-classification-nlp-different-architectures"
   ]
  },
  {
   "cell_type": "markdown",
   "id": "aa289562",
   "metadata": {},
   "source": [
    "#  Importing Libraries"
   ]
  },
  {
   "cell_type": "code",
   "execution_count": 1,
   "id": "1433c164",
   "metadata": {},
   "outputs": [],
   "source": [
    "import numpy as np\n",
    "import pandas as pd\n",
    "import matplotlib.pyplot as plt\n",
    "\n",
    "import warnings\n",
    "warnings.filterwarnings('ignore')"
   ]
  },
  {
   "cell_type": "markdown",
   "id": "80a3fb62",
   "metadata": {},
   "source": [
    "# Loading Dataset"
   ]
  },
  {
   "cell_type": "code",
   "execution_count": 2,
   "id": "1afc02bd",
   "metadata": {},
   "outputs": [
    {
     "data": {
      "text/html": [
       "<div>\n",
       "<style scoped>\n",
       "    .dataframe tbody tr th:only-of-type {\n",
       "        vertical-align: middle;\n",
       "    }\n",
       "\n",
       "    .dataframe tbody tr th {\n",
       "        vertical-align: top;\n",
       "    }\n",
       "\n",
       "    .dataframe thead th {\n",
       "        text-align: right;\n",
       "    }\n",
       "</style>\n",
       "<table border=\"1\" class=\"dataframe\">\n",
       "  <thead>\n",
       "    <tr style=\"text-align: right;\">\n",
       "      <th></th>\n",
       "      <th>Category</th>\n",
       "      <th>Message</th>\n",
       "    </tr>\n",
       "  </thead>\n",
       "  <tbody>\n",
       "    <tr>\n",
       "      <th>0</th>\n",
       "      <td>ham</td>\n",
       "      <td>Go until jurong point, crazy.. Available only ...</td>\n",
       "    </tr>\n",
       "    <tr>\n",
       "      <th>1</th>\n",
       "      <td>ham</td>\n",
       "      <td>Ok lar... Joking wif u oni...</td>\n",
       "    </tr>\n",
       "    <tr>\n",
       "      <th>2</th>\n",
       "      <td>spam</td>\n",
       "      <td>Free entry in 2 a wkly comp to win FA Cup fina...</td>\n",
       "    </tr>\n",
       "    <tr>\n",
       "      <th>3</th>\n",
       "      <td>ham</td>\n",
       "      <td>U dun say so early hor... U c already then say...</td>\n",
       "    </tr>\n",
       "    <tr>\n",
       "      <th>4</th>\n",
       "      <td>ham</td>\n",
       "      <td>Nah I don't think he goes to usf, he lives aro...</td>\n",
       "    </tr>\n",
       "  </tbody>\n",
       "</table>\n",
       "</div>"
      ],
      "text/plain": [
       "  Category                                            Message\n",
       "0      ham  Go until jurong point, crazy.. Available only ...\n",
       "1      ham                      Ok lar... Joking wif u oni...\n",
       "2     spam  Free entry in 2 a wkly comp to win FA Cup fina...\n",
       "3      ham  U dun say so early hor... U c already then say...\n",
       "4      ham  Nah I don't think he goes to usf, he lives aro..."
      ]
     },
     "execution_count": 2,
     "metadata": {},
     "output_type": "execute_result"
    }
   ],
   "source": [
    "data = pd.read_csv('SPAM_SMS.csv')\n",
    "data.head()"
   ]
  },
  {
   "cell_type": "code",
   "execution_count": 3,
   "id": "7ae595e1",
   "metadata": {},
   "outputs": [
    {
     "data": {
      "text/html": [
       "<div>\n",
       "<style scoped>\n",
       "    .dataframe tbody tr th:only-of-type {\n",
       "        vertical-align: middle;\n",
       "    }\n",
       "\n",
       "    .dataframe tbody tr th {\n",
       "        vertical-align: top;\n",
       "    }\n",
       "\n",
       "    .dataframe thead th {\n",
       "        text-align: right;\n",
       "    }\n",
       "</style>\n",
       "<table border=\"1\" class=\"dataframe\">\n",
       "  <thead>\n",
       "    <tr style=\"text-align: right;\">\n",
       "      <th></th>\n",
       "      <th>Category</th>\n",
       "      <th>Message</th>\n",
       "    </tr>\n",
       "  </thead>\n",
       "  <tbody>\n",
       "    <tr>\n",
       "      <th>0</th>\n",
       "      <td>ham</td>\n",
       "      <td>Go until jurong point, crazy.. Available only ...</td>\n",
       "    </tr>\n",
       "    <tr>\n",
       "      <th>1</th>\n",
       "      <td>ham</td>\n",
       "      <td>Ok lar... Joking wif u oni...</td>\n",
       "    </tr>\n",
       "    <tr>\n",
       "      <th>2</th>\n",
       "      <td>spam</td>\n",
       "      <td>Free entry in 2 a wkly comp to win FA Cup fina...</td>\n",
       "    </tr>\n",
       "    <tr>\n",
       "      <th>3</th>\n",
       "      <td>ham</td>\n",
       "      <td>U dun say so early hor... U c already then say...</td>\n",
       "    </tr>\n",
       "    <tr>\n",
       "      <th>4</th>\n",
       "      <td>ham</td>\n",
       "      <td>Nah I don't think he goes to usf, he lives aro...</td>\n",
       "    </tr>\n",
       "  </tbody>\n",
       "</table>\n",
       "</div>"
      ],
      "text/plain": [
       "  Category                                            Message\n",
       "0      ham  Go until jurong point, crazy.. Available only ...\n",
       "1      ham                      Ok lar... Joking wif u oni...\n",
       "2     spam  Free entry in 2 a wkly comp to win FA Cup fina...\n",
       "3      ham  U dun say so early hor... U c already then say...\n",
       "4      ham  Nah I don't think he goes to usf, he lives aro..."
      ]
     },
     "execution_count": 3,
     "metadata": {},
     "output_type": "execute_result"
    }
   ],
   "source": [
    "data.head()"
   ]
  },
  {
   "cell_type": "code",
   "execution_count": 4,
   "id": "9dec729b",
   "metadata": {},
   "outputs": [
    {
     "data": {
      "text/plain": [
       "array(['ham', 'ham', 'spam', ..., 'ham', 'ham', 'ham'], dtype=object)"
      ]
     },
     "execution_count": 4,
     "metadata": {},
     "output_type": "execute_result"
    }
   ],
   "source": [
    "texts = data['Message'].values\n",
    "labels = data['Category'].values\n",
    "\n",
    "max_words = 60000\n",
    "labels"
   ]
  },
  {
   "cell_type": "markdown",
   "id": "5051e47b",
   "metadata": {},
   "source": [
    "# Turning words to tokens using Tokenizer"
   ]
  },
  {
   "cell_type": "code",
   "execution_count": 5,
   "id": "3ace12b5",
   "metadata": {},
   "outputs": [],
   "source": [
    "from keras.preprocessing.text import Tokenizer"
   ]
  },
  {
   "cell_type": "code",
   "execution_count": 6,
   "id": "cb8694e9",
   "metadata": {},
   "outputs": [],
   "source": [
    "tokenizer = Tokenizer(num_words=max_words,\n",
    "                      filters='!\"#$%&()*+,-./:;<=>?@[\\\\]^_`{|}~\\t\\n',\n",
    "                      lower=True,\n",
    "                      split=' ',\n",
    "                      char_level=False,\n",
    "                      oov_token='unknown')\n",
    "tokenizer.fit_on_texts(texts)"
   ]
  },
  {
   "cell_type": "code",
   "execution_count": 7,
   "id": "e23a2b8d",
   "metadata": {},
   "outputs": [
    {
     "data": {
      "text/plain": [
       "array([[0., 0., 0., ..., 0., 0., 0.],\n",
       "       [0., 0., 0., ..., 0., 0., 0.],\n",
       "       [0., 0., 0., ..., 0., 0., 0.],\n",
       "       ...,\n",
       "       [0., 0., 0., ..., 0., 0., 0.],\n",
       "       [0., 0., 1., ..., 0., 0., 0.],\n",
       "       [0., 0., 0., ..., 0., 0., 0.]])"
      ]
     },
     "execution_count": 7,
     "metadata": {},
     "output_type": "execute_result"
    }
   ],
   "source": [
    "X = tokenizer.texts_to_matrix(texts)\n",
    "X"
   ]
  },
  {
   "cell_type": "markdown",
   "id": "61002293",
   "metadata": {},
   "source": [
    "#### Encoding Labels"
   ]
  },
  {
   "cell_type": "code",
   "execution_count": 8,
   "id": "749f0cba",
   "metadata": {},
   "outputs": [
    {
     "data": {
      "text/plain": [
       "array([0, 0, 1, ..., 0, 0, 0])"
      ]
     },
     "execution_count": 8,
     "metadata": {},
     "output_type": "execute_result"
    }
   ],
   "source": [
    "from sklearn.preprocessing import LabelEncoder\n",
    "le = LabelEncoder()\n",
    "le.fit(labels)\n",
    "\n",
    "Y = le.fit_transform(labels)\n",
    "Y"
   ]
  },
  {
   "cell_type": "markdown",
   "id": "10619584",
   "metadata": {},
   "source": [
    "#### Split Data into Train and Test"
   ]
  },
  {
   "cell_type": "code",
   "execution_count": 9,
   "id": "316ef7ae",
   "metadata": {},
   "outputs": [],
   "source": [
    "from sklearn.model_selection import train_test_split\n",
    "X_train, X_test, y_train, y_test = train_test_split(X, Y, test_size=0.2)"
   ]
  },
  {
   "cell_type": "markdown",
   "id": "b6b2564d",
   "metadata": {},
   "source": [
    "# Split data on train and test for embedding"
   ]
  },
  {
   "cell_type": "code",
   "execution_count": 10,
   "id": "d7f31c5c",
   "metadata": {},
   "outputs": [],
   "source": [
    "sequences = tokenizer.texts_to_sequences(texts)\n",
    "sequences = np.array(sequences)\n",
    "x_train_emb, x_test_emb, y_train_emb, y_test_emb = train_test_split(sequences,Y, test_size=0.2)"
   ]
  },
  {
   "cell_type": "markdown",
   "id": "7a3d2ed0",
   "metadata": {},
   "source": [
    "#### Fully- Connected NN"
   ]
  },
  {
   "cell_type": "code",
   "execution_count": 11,
   "id": "47706aae",
   "metadata": {},
   "outputs": [],
   "source": [
    "from keras.models import Sequential\n",
    "from keras.layers import Dense, Dropout, BatchNormalization"
   ]
  },
  {
   "cell_type": "code",
   "execution_count": 12,
   "id": "0b258482",
   "metadata": {},
   "outputs": [],
   "source": [
    "# Dense \n",
    "\n",
    "model = Sequential()\n",
    "\n",
    "model.add(BatchNormalization(input_dim = max_words))\n",
    "model.add(Dense(64, activation='relu'))\n",
    "model.add(Dense(64, activation='relu'))\n",
    "model.add(Dropout(0.2))\n",
    "\n",
    "model.add(BatchNormalization())\n",
    "model.add(Dense(128, activation='relu'))\n",
    "model.add(Dense(128, activation='relu'))\n",
    "model.add(Dropout(0.25))\n",
    "\n",
    "model.add(BatchNormalization())\n",
    "model.add(Dense(256, activation='relu'))\n",
    "model.add(Dense(256, activation='relu'))\n",
    "model.add(Dropout(0.25))\n",
    "\n",
    "model.add(BatchNormalization())\n",
    "model.add(Dense(512, activation='relu'))\n",
    "model.add(Dense(512, activation='relu'))\n",
    "model.add(Dropout(0.5))\n",
    "\n",
    "model.add(BatchNormalization())\n",
    "model.add(Dense(256, activation='relu'))\n",
    "model.add(Dense(256, activation='relu'))\n",
    "model.add(Dropout(0.25))\n",
    "\n",
    "model.add(BatchNormalization())\n",
    "model.add(Dense(128, activation='relu'))\n",
    "model.add(Dense(128, activation='relu'))\n",
    "model.add(Dropout(0.25))\n",
    "\n",
    "model.add(BatchNormalization())\n",
    "model.add(Dense(64, activation='relu'))\n",
    "model.add(Dense(64, activation='relu'))\n",
    "model.add(Dropout(0.5))\n",
    "\n",
    "model.add(Dense(1, activation='sigmoid'))"
   ]
  },
  {
   "cell_type": "code",
   "execution_count": 13,
   "id": "cc7d6055",
   "metadata": {},
   "outputs": [
    {
     "name": "stdout",
     "output_type": "stream",
     "text": [
      "Model: \"sequential\"\n",
      "_________________________________________________________________\n",
      " Layer (type)                Output Shape              Param #   \n",
      "=================================================================\n",
      " batch_normalization (BatchN  (None, 60000)            240000    \n",
      " ormalization)                                                   \n",
      "                                                                 \n",
      " dense (Dense)               (None, 64)                3840064   \n",
      "                                                                 \n",
      " dense_1 (Dense)             (None, 64)                4160      \n",
      "                                                                 \n",
      " dropout (Dropout)           (None, 64)                0         \n",
      "                                                                 \n",
      " batch_normalization_1 (Batc  (None, 64)               256       \n",
      " hNormalization)                                                 \n",
      "                                                                 \n",
      " dense_2 (Dense)             (None, 128)               8320      \n",
      "                                                                 \n",
      " dense_3 (Dense)             (None, 128)               16512     \n",
      "                                                                 \n",
      " dropout_1 (Dropout)         (None, 128)               0         \n",
      "                                                                 \n",
      " batch_normalization_2 (Batc  (None, 128)              512       \n",
      " hNormalization)                                                 \n",
      "                                                                 \n",
      " dense_4 (Dense)             (None, 256)               33024     \n",
      "                                                                 \n",
      " dense_5 (Dense)             (None, 256)               65792     \n",
      "                                                                 \n",
      " dropout_2 (Dropout)         (None, 256)               0         \n",
      "                                                                 \n",
      " batch_normalization_3 (Batc  (None, 256)              1024      \n",
      " hNormalization)                                                 \n",
      "                                                                 \n",
      " dense_6 (Dense)             (None, 512)               131584    \n",
      "                                                                 \n",
      " dense_7 (Dense)             (None, 512)               262656    \n",
      "                                                                 \n",
      " dropout_3 (Dropout)         (None, 512)               0         \n",
      "                                                                 \n",
      " batch_normalization_4 (Batc  (None, 512)              2048      \n",
      " hNormalization)                                                 \n",
      "                                                                 \n",
      " dense_8 (Dense)             (None, 256)               131328    \n",
      "                                                                 \n",
      " dense_9 (Dense)             (None, 256)               65792     \n",
      "                                                                 \n",
      " dropout_4 (Dropout)         (None, 256)               0         \n",
      "                                                                 \n",
      " batch_normalization_5 (Batc  (None, 256)              1024      \n",
      " hNormalization)                                                 \n",
      "                                                                 \n",
      " dense_10 (Dense)            (None, 128)               32896     \n",
      "                                                                 \n",
      " dense_11 (Dense)            (None, 128)               16512     \n",
      "                                                                 \n",
      " dropout_5 (Dropout)         (None, 128)               0         \n",
      "                                                                 \n",
      " batch_normalization_6 (Batc  (None, 128)              512       \n",
      " hNormalization)                                                 \n",
      "                                                                 \n",
      " dense_12 (Dense)            (None, 64)                8256      \n",
      "                                                                 \n",
      " dense_13 (Dense)            (None, 64)                4160      \n",
      "                                                                 \n",
      " dropout_6 (Dropout)         (None, 64)                0         \n",
      "                                                                 \n",
      " dense_14 (Dense)            (None, 1)                 65        \n",
      "                                                                 \n",
      "=================================================================\n",
      "Total params: 4,866,497\n",
      "Trainable params: 4,743,809\n",
      "Non-trainable params: 122,688\n",
      "_________________________________________________________________\n"
     ]
    }
   ],
   "source": [
    "model.summary()"
   ]
  },
  {
   "cell_type": "code",
   "execution_count": 14,
   "id": "a62da268",
   "metadata": {},
   "outputs": [],
   "source": [
    "from keras.metrics import AUC\n",
    "model.compile(loss = 'binary_crossentropy', optimizer = 'sgd', metrics =  [AUC()])"
   ]
  },
  {
   "cell_type": "code",
   "execution_count": 15,
   "id": "7ab99e89",
   "metadata": {},
   "outputs": [
    {
     "name": "stdout",
     "output_type": "stream",
     "text": [
      "Epoch 1/25\n",
      "126/126 [==============================] - 5s 21ms/step - loss: 0.5078 - auc: 0.4812 - val_loss: 0.4976 - val_auc: 0.5346\n",
      "Epoch 2/25\n",
      "126/126 [==============================] - 2s 18ms/step - loss: 0.4253 - auc: 0.5532 - val_loss: 0.4040 - val_auc: 0.6660\n",
      "Epoch 3/25\n",
      "126/126 [==============================] - 2s 18ms/step - loss: 0.3748 - auc: 0.6752 - val_loss: 0.3347 - val_auc: 0.8108\n",
      "Epoch 4/25\n",
      "126/126 [==============================] - 2s 17ms/step - loss: 0.3353 - auc: 0.7652 - val_loss: 0.1950 - val_auc: 0.9030\n",
      "Epoch 5/25\n",
      "126/126 [==============================] - 2s 17ms/step - loss: 0.2897 - auc: 0.8434 - val_loss: 0.1518 - val_auc: 0.9429\n",
      "Epoch 6/25\n",
      "126/126 [==============================] - 2s 18ms/step - loss: 0.2356 - auc: 0.9035 - val_loss: 0.1439 - val_auc: 0.9521\n",
      "Epoch 7/25\n",
      "126/126 [==============================] - 2s 18ms/step - loss: 0.2107 - auc: 0.9216 - val_loss: 0.1341 - val_auc: 0.9566\n",
      "Epoch 8/25\n",
      "126/126 [==============================] - 2s 18ms/step - loss: 0.1647 - auc: 0.9471 - val_loss: 0.1192 - val_auc: 0.9718\n",
      "Epoch 9/25\n",
      "126/126 [==============================] - 2s 19ms/step - loss: 0.1726 - auc: 0.9479 - val_loss: 0.0992 - val_auc: 0.9700\n",
      "Epoch 10/25\n",
      "126/126 [==============================] - 2s 17ms/step - loss: 0.1523 - auc: 0.9544 - val_loss: 0.0842 - val_auc: 0.9699\n",
      "Epoch 11/25\n",
      "126/126 [==============================] - 2s 17ms/step - loss: 0.1352 - auc: 0.9666 - val_loss: 0.0867 - val_auc: 0.9719\n",
      "Epoch 12/25\n",
      "126/126 [==============================] - 2s 17ms/step - loss: 0.1306 - auc: 0.9655 - val_loss: 0.0727 - val_auc: 0.9746\n",
      "Epoch 13/25\n",
      "126/126 [==============================] - 2s 17ms/step - loss: 0.1266 - auc: 0.9685 - val_loss: 0.0692 - val_auc: 0.9764\n",
      "Epoch 14/25\n",
      "126/126 [==============================] - 2s 17ms/step - loss: 0.1193 - auc: 0.9723 - val_loss: 0.0645 - val_auc: 0.9841\n",
      "Epoch 15/25\n",
      "126/126 [==============================] - 2s 18ms/step - loss: 0.1048 - auc: 0.9782 - val_loss: 0.0692 - val_auc: 0.9728\n",
      "Epoch 16/25\n",
      "126/126 [==============================] - 3s 20ms/step - loss: 0.1021 - auc: 0.9762 - val_loss: 0.0672 - val_auc: 0.9788\n",
      "Epoch 17/25\n",
      "126/126 [==============================] - 2s 18ms/step - loss: 0.1023 - auc: 0.9780 - val_loss: 0.0620 - val_auc: 0.9815\n",
      "Epoch 18/25\n",
      "126/126 [==============================] - 2s 18ms/step - loss: 0.1117 - auc: 0.9742 - val_loss: 0.0632 - val_auc: 0.9756\n",
      "Epoch 19/25\n",
      "126/126 [==============================] - 2s 18ms/step - loss: 0.0932 - auc: 0.9825 - val_loss: 0.0539 - val_auc: 0.9869\n",
      "Epoch 20/25\n",
      "126/126 [==============================] - 2s 19ms/step - loss: 0.0998 - auc: 0.9793 - val_loss: 0.0510 - val_auc: 0.9879\n",
      "Epoch 21/25\n",
      "126/126 [==============================] - 2s 19ms/step - loss: 0.1007 - auc: 0.9805 - val_loss: 0.0504 - val_auc: 0.9884\n",
      "Epoch 22/25\n",
      "126/126 [==============================] - 2s 19ms/step - loss: 0.0800 - auc: 0.9868 - val_loss: 0.0456 - val_auc: 0.9895\n",
      "Epoch 23/25\n",
      "126/126 [==============================] - 3s 20ms/step - loss: 0.0965 - auc: 0.9799 - val_loss: 0.0459 - val_auc: 0.9895\n",
      "Epoch 24/25\n",
      "126/126 [==============================] - 2s 19ms/step - loss: 0.0958 - auc: 0.9822 - val_loss: 0.0412 - val_auc: 0.9900\n",
      "Epoch 25/25\n",
      "126/126 [==============================] - 2s 18ms/step - loss: 0.0764 - auc: 0.9888 - val_loss: 0.0412 - val_auc: 0.9905\n"
     ]
    }
   ],
   "source": [
    "history = model.fit(X_train, y_train, validation_split=0.1, epochs=25)"
   ]
  },
  {
   "cell_type": "markdown",
   "id": "d6c4a4f8",
   "metadata": {},
   "source": [
    "### Graph of AUC Score"
   ]
  },
  {
   "cell_type": "code",
   "execution_count": 16,
   "id": "3672a09e",
   "metadata": {},
   "outputs": [
    {
     "data": {
      "image/png": "[encoded data removed]",
      "text/plain": [
       "<Figure size 432x288 with 1 Axes>"
      ]
     },
     "metadata": {
      "needs_background": "light"
     },
     "output_type": "display_data"
    }
   ],
   "source": [
    "plt.plot(history.history['auc'], label='AUC on Train')\n",
    "plt.plot(history.history['val_auc'], label='AUC on Test')\n",
    "plt.xlabel(\"Epoch\")\n",
    "plt.ylabel('Score')\n",
    "plt.legend();"
   ]
  },
  {
   "cell_type": "markdown",
   "id": "78e05b34",
   "metadata": {},
   "source": [
    "### Model Selection"
   ]
  },
  {
   "cell_type": "code",
   "execution_count": 17,
   "id": "09ff9e90",
   "metadata": {},
   "outputs": [
    {
     "name": "stdout",
     "output_type": "stream",
     "text": [
      "35/35 [==============================] - 0s 7ms/step - loss: 0.0939 - auc: 0.9701\n"
     ]
    },
    {
     "data": {
      "text/plain": [
       "[0.09385492652654648, 0.9700739979743958]"
      ]
     },
     "execution_count": 17,
     "metadata": {},
     "output_type": "execute_result"
    }
   ],
   "source": [
    "model.evaluate(X_test, y_test)"
   ]
  },
  {
   "cell_type": "markdown",
   "id": "861213fc",
   "metadata": {},
   "source": [
    "# Embedding + Dense NN"
   ]
  },
  {
   "cell_type": "code",
   "execution_count": 18,
   "id": "762704fa",
   "metadata": {},
   "outputs": [],
   "source": [
    "from keras_preprocessing.sequence import pad_sequences\n",
    "from keras.layers import Embedding, SpatialDropout1D, Flatten"
   ]
  },
  {
   "cell_type": "code",
   "execution_count": 19,
   "id": "f7474c8e",
   "metadata": {},
   "outputs": [],
   "source": [
    "max_len = 200\n",
    "\n",
    "x_train_emb = pad_sequences(x_train_emb, maxlen=max_len)\n",
    "x_test_emb = pad_sequences(x_test_emb, maxlen=max_len)"
   ]
  },
  {
   "cell_type": "code",
   "execution_count": 20,
   "id": "5c633e94",
   "metadata": {},
   "outputs": [],
   "source": [
    "model = Sequential()\n",
    "\n",
    "model.add(Embedding(max_words, 64, input_length=max_len))\n",
    "model.add(SpatialDropout1D(0.25))\n",
    "\n",
    "model.add(Flatten())\n",
    "\n",
    "model.add(BatchNormalization())\n",
    "model.add(Dense(64, activation='relu'))\n",
    "model.add(Dense(64, activation='relu'))\n",
    "model.add(Dropout(0.5))\n",
    "\n",
    "model.add(BatchNormalization())\n",
    "model.add(Dense(128, activation='relu'))\n",
    "model.add(Dense(128, activation='relu'))\n",
    "model.add(Dropout(0.25))\n",
    "\n",
    "model.add(BatchNormalization())\n",
    "model.add(Dense(256, activation='relu'))\n",
    "model.add(Dense(256, activation='relu'))\n",
    "model.add(Dropout(0.25))\n",
    "\n",
    "model.add(BatchNormalization())\n",
    "model.add(Dense(512, activation='relu'))\n",
    "model.add(Dense(512, activation='relu'))\n",
    "model.add(Dropout(0.5))\n",
    "\n",
    "model.add(Dense(1, activation = 'sigmoid'))\n"
   ]
  },
  {
   "cell_type": "code",
   "execution_count": 21,
   "id": "1a7b1e33",
   "metadata": {},
   "outputs": [
    {
     "name": "stdout",
     "output_type": "stream",
     "text": [
      "Model: \"sequential_1\"\n",
      "_________________________________________________________________\n",
      " Layer (type)                Output Shape              Param #   \n",
      "=================================================================\n",
      " embedding (Embedding)       (None, 200, 64)           3840000   \n",
      "                                                                 \n",
      " spatial_dropout1d (SpatialD  (None, 200, 64)          0         \n",
      " ropout1D)                                                       \n",
      "                                                                 \n",
      " flatten (Flatten)           (None, 12800)             0         \n",
      "                                                                 \n",
      " batch_normalization_7 (Batc  (None, 12800)            51200     \n",
      " hNormalization)                                                 \n",
      "                                                                 \n",
      " dense_15 (Dense)            (None, 64)                819264    \n",
      "                                                                 \n",
      " dense_16 (Dense)            (None, 64)                4160      \n",
      "                                                                 \n",
      " dropout_7 (Dropout)         (None, 64)                0         \n",
      "                                                                 \n",
      " batch_normalization_8 (Batc  (None, 64)               256       \n",
      " hNormalization)                                                 \n",
      "                                                                 \n",
      " dense_17 (Dense)            (None, 128)               8320      \n",
      "                                                                 \n",
      " dense_18 (Dense)            (None, 128)               16512     \n",
      "                                                                 \n",
      " dropout_8 (Dropout)         (None, 128)               0         \n",
      "                                                                 \n",
      " batch_normalization_9 (Batc  (None, 128)              512       \n",
      " hNormalization)                                                 \n",
      "                                                                 \n",
      " dense_19 (Dense)            (None, 256)               33024     \n",
      "                                                                 \n",
      " dense_20 (Dense)            (None, 256)               65792     \n",
      "                                                                 \n",
      " dropout_9 (Dropout)         (None, 256)               0         \n",
      "                                                                 \n",
      " batch_normalization_10 (Bat  (None, 256)              1024      \n",
      " chNormalization)                                                \n",
      "                                                                 \n",
      " dense_21 (Dense)            (None, 512)               131584    \n",
      "                                                                 \n",
      " dense_22 (Dense)            (None, 512)               262656    \n",
      "                                                                 \n",
      " dropout_10 (Dropout)        (None, 512)               0         \n",
      "                                                                 \n",
      " dense_23 (Dense)            (None, 1)                 513       \n",
      "                                                                 \n",
      "=================================================================\n",
      "Total params: 5,234,817\n",
      "Trainable params: 5,208,321\n",
      "Non-trainable params: 26,496\n",
      "_________________________________________________________________\n"
     ]
    }
   ],
   "source": [
    "model.summary()"
   ]
  },
  {
   "cell_type": "code",
   "execution_count": 22,
   "id": "8e62c6a6",
   "metadata": {},
   "outputs": [],
   "source": [
    "model.compile(loss = 'binary_crossentropy', optimizer = 'sgd', metrics =  [AUC()])"
   ]
  },
  {
   "cell_type": "code",
   "execution_count": 23,
   "id": "9205fda7",
   "metadata": {
    "scrolled": true
   },
   "outputs": [
    {
     "name": "stdout",
     "output_type": "stream",
     "text": [
      "Epoch 1/80\n",
      "126/126 [==============================] - 3s 14ms/step - loss: 0.4314 - auc_1: 0.5263 - val_loss: 0.5300 - val_auc_1: 0.5842\n",
      "Epoch 2/80\n",
      "126/126 [==============================] - 1s 12ms/step - loss: 0.4116 - auc_1: 0.5819 - val_loss: 0.4855 - val_auc_1: 0.8452\n",
      "Epoch 3/80\n",
      "126/126 [==============================] - 1s 12ms/step - loss: 0.3877 - auc_1: 0.6610 - val_loss: 0.4997 - val_auc_1: 0.8536\n",
      "Epoch 4/80\n",
      "126/126 [==============================] - 2s 12ms/step - loss: 0.3699 - auc_1: 0.7181 - val_loss: 0.5151 - val_auc_1: 0.8714\n",
      "Epoch 5/80\n",
      "126/126 [==============================] - 2s 13ms/step - loss: 0.3599 - auc_1: 0.7453 - val_loss: 0.5008 - val_auc_1: 0.8830\n",
      "Epoch 6/80\n",
      "126/126 [==============================] - 1s 12ms/step - loss: 0.3454 - auc_1: 0.7766 - val_loss: 0.5748 - val_auc_1: 0.8159\n",
      "Epoch 7/80\n",
      "126/126 [==============================] - 1s 11ms/step - loss: 0.3372 - auc_1: 0.7970 - val_loss: 0.5923 - val_auc_1: 0.8277\n",
      "Epoch 8/80\n",
      "126/126 [==============================] - 2s 12ms/step - loss: 0.3362 - auc_1: 0.7995 - val_loss: 0.5145 - val_auc_1: 0.8623\n",
      "Epoch 9/80\n",
      "126/126 [==============================] - 1s 12ms/step - loss: 0.3297 - auc_1: 0.8073 - val_loss: 0.5211 - val_auc_1: 0.8863\n",
      "Epoch 10/80\n",
      "126/126 [==============================] - 2s 12ms/step - loss: 0.3292 - auc_1: 0.8076 - val_loss: 0.4707 - val_auc_1: 0.8754\n",
      "Epoch 11/80\n",
      "126/126 [==============================] - 1s 12ms/step - loss: 0.3210 - auc_1: 0.8195 - val_loss: 0.4799 - val_auc_1: 0.8746\n",
      "Epoch 12/80\n",
      "126/126 [==============================] - 1s 12ms/step - loss: 0.3241 - auc_1: 0.8139 - val_loss: 0.4744 - val_auc_1: 0.8549\n",
      "Epoch 13/80\n",
      "126/126 [==============================] - 1s 12ms/step - loss: 0.3278 - auc_1: 0.8109 - val_loss: 0.4668 - val_auc_1: 0.8770\n",
      "Epoch 14/80\n",
      "126/126 [==============================] - 1s 12ms/step - loss: 0.3174 - auc_1: 0.8259 - val_loss: 0.4751 - val_auc_1: 0.8686\n",
      "Epoch 15/80\n",
      "126/126 [==============================] - 1s 12ms/step - loss: 0.3136 - auc_1: 0.8313 - val_loss: 0.4407 - val_auc_1: 0.8833\n",
      "Epoch 16/80\n",
      "126/126 [==============================] - 2s 13ms/step - loss: 0.3173 - auc_1: 0.8261 - val_loss: 0.4533 - val_auc_1: 0.8809\n",
      "Epoch 17/80\n",
      "126/126 [==============================] - 2s 12ms/step - loss: 0.3105 - auc_1: 0.8337 - val_loss: 0.4744 - val_auc_1: 0.8753\n",
      "Epoch 18/80\n",
      "126/126 [==============================] - 2s 12ms/step - loss: 0.3125 - auc_1: 0.8327 - val_loss: 0.4458 - val_auc_1: 0.8840\n",
      "Epoch 19/80\n",
      "126/126 [==============================] - 2s 12ms/step - loss: 0.3176 - auc_1: 0.8229 - val_loss: 0.4391 - val_auc_1: 0.8851\n",
      "Epoch 20/80\n",
      "126/126 [==============================] - 1s 12ms/step - loss: 0.3102 - auc_1: 0.8339 - val_loss: 0.4344 - val_auc_1: 0.8833\n",
      "Epoch 21/80\n",
      "126/126 [==============================] - 1s 12ms/step - loss: 0.3099 - auc_1: 0.8363 - val_loss: 0.4443 - val_auc_1: 0.8839\n",
      "Epoch 22/80\n",
      "126/126 [==============================] - 2s 12ms/step - loss: 0.3112 - auc_1: 0.8330 - val_loss: 0.4351 - val_auc_1: 0.8875\n",
      "Epoch 23/80\n",
      "126/126 [==============================] - 2s 13ms/step - loss: 0.3056 - auc_1: 0.8410 - val_loss: 0.4446 - val_auc_1: 0.8936\n",
      "Epoch 24/80\n",
      "126/126 [==============================] - 2s 13ms/step - loss: 0.3050 - auc_1: 0.8428 - val_loss: 0.4511 - val_auc_1: 0.8949\n",
      "Epoch 25/80\n",
      "126/126 [==============================] - 2s 13ms/step - loss: 0.3042 - auc_1: 0.8428 - val_loss: 0.4178 - val_auc_1: 0.8898\n",
      "Epoch 26/80\n",
      "126/126 [==============================] - 2s 14ms/step - loss: 0.3041 - auc_1: 0.8415 - val_loss: 0.4461 - val_auc_1: 0.8993\n",
      "Epoch 27/80\n",
      "126/126 [==============================] - 2s 13ms/step - loss: 0.2962 - auc_1: 0.8536 - val_loss: 0.4424 - val_auc_1: 0.8967\n",
      "Epoch 28/80\n",
      "126/126 [==============================] - 2s 13ms/step - loss: 0.2988 - auc_1: 0.8495 - val_loss: 0.4296 - val_auc_1: 0.9027\n",
      "Epoch 29/80\n",
      "126/126 [==============================] - 2s 13ms/step - loss: 0.3027 - auc_1: 0.8436 - val_loss: 0.4623 - val_auc_1: 0.9060\n",
      "Epoch 30/80\n",
      "126/126 [==============================] - 2s 13ms/step - loss: 0.2981 - auc_1: 0.8499 - val_loss: 0.4549 - val_auc_1: 0.9123\n",
      "Epoch 31/80\n",
      "126/126 [==============================] - 2s 12ms/step - loss: 0.2973 - auc_1: 0.8505 - val_loss: 0.4829 - val_auc_1: 0.9085\n",
      "Epoch 32/80\n",
      "126/126 [==============================] - 2s 12ms/step - loss: 0.2924 - auc_1: 0.8555 - val_loss: 0.4441 - val_auc_1: 0.9074\n",
      "Epoch 33/80\n",
      "126/126 [==============================] - 1s 12ms/step - loss: 0.2926 - auc_1: 0.8549 - val_loss: 0.5135 - val_auc_1: 0.9156\n",
      "Epoch 34/80\n",
      "126/126 [==============================] - 1s 12ms/step - loss: 0.2922 - auc_1: 0.8541 - val_loss: 0.4287 - val_auc_1: 0.9148\n",
      "Epoch 35/80\n",
      "126/126 [==============================] - 1s 12ms/step - loss: 0.2888 - auc_1: 0.8591 - val_loss: 0.4840 - val_auc_1: 0.9182\n",
      "Epoch 36/80\n",
      "126/126 [==============================] - 2s 13ms/step - loss: 0.2796 - auc_1: 0.8714 - val_loss: 0.3871 - val_auc_1: 0.9199\n",
      "Epoch 37/80\n",
      "126/126 [==============================] - 2s 13ms/step - loss: 0.2749 - auc_1: 0.8746 - val_loss: 0.4595 - val_auc_1: 0.9276\n",
      "Epoch 38/80\n",
      "126/126 [==============================] - 1s 12ms/step - loss: 0.2759 - auc_1: 0.8748 - val_loss: 0.5433 - val_auc_1: 0.9389\n",
      "Epoch 39/80\n",
      "126/126 [==============================] - 1s 11ms/step - loss: 0.2592 - auc_1: 0.8894 - val_loss: 0.3737 - val_auc_1: 0.9392\n",
      "Epoch 40/80\n",
      "126/126 [==============================] - 2s 12ms/step - loss: 0.2455 - auc_1: 0.8976 - val_loss: 0.5391 - val_auc_1: 0.9551\n",
      "Epoch 41/80\n",
      "126/126 [==============================] - 2s 12ms/step - loss: 0.2142 - auc_1: 0.9172 - val_loss: 0.5775 - val_auc_1: 0.9623\n",
      "Epoch 42/80\n",
      "126/126 [==============================] - 2s 12ms/step - loss: 0.1969 - auc_1: 0.9294 - val_loss: 0.3265 - val_auc_1: 0.9602\n",
      "Epoch 43/80\n",
      "126/126 [==============================] - 2s 12ms/step - loss: 0.1839 - auc_1: 0.9393 - val_loss: 0.2964 - val_auc_1: 0.9564\n",
      "Epoch 44/80\n",
      "126/126 [==============================] - 2s 12ms/step - loss: 0.1650 - auc_1: 0.9446 - val_loss: 0.3290 - val_auc_1: 0.9643\n",
      "Epoch 45/80\n",
      "126/126 [==============================] - 1s 11ms/step - loss: 0.1499 - auc_1: 0.9532 - val_loss: 0.2110 - val_auc_1: 0.9612\n",
      "Epoch 46/80\n",
      "126/126 [==============================] - 2s 12ms/step - loss: 0.1567 - auc_1: 0.9509 - val_loss: 0.1306 - val_auc_1: 0.9637\n",
      "Epoch 47/80\n",
      "126/126 [==============================] - 2s 13ms/step - loss: 0.1528 - auc_1: 0.9553 - val_loss: 0.2226 - val_auc_1: 0.9580\n",
      "Epoch 48/80\n",
      "126/126 [==============================] - 2s 12ms/step - loss: 0.1306 - auc_1: 0.9669 - val_loss: 0.3410 - val_auc_1: 0.9613\n",
      "Epoch 49/80\n",
      "126/126 [==============================] - 1s 12ms/step - loss: 0.1303 - auc_1: 0.9621 - val_loss: 0.3497 - val_auc_1: 0.9638\n",
      "Epoch 50/80\n",
      "126/126 [==============================] - 2s 12ms/step - loss: 0.1172 - auc_1: 0.9730 - val_loss: 0.3082 - val_auc_1: 0.9682\n",
      "Epoch 51/80\n",
      "126/126 [==============================] - 2s 12ms/step - loss: 0.1104 - auc_1: 0.9749 - val_loss: 0.1939 - val_auc_1: 0.9692\n",
      "Epoch 52/80\n",
      "126/126 [==============================] - 2s 12ms/step - loss: 0.1037 - auc_1: 0.9780 - val_loss: 0.4305 - val_auc_1: 0.9685\n",
      "Epoch 53/80\n",
      "126/126 [==============================] - 2s 12ms/step - loss: 0.0935 - auc_1: 0.9806 - val_loss: 0.5012 - val_auc_1: 0.9757\n",
      "Epoch 54/80\n",
      "126/126 [==============================] - 2s 12ms/step - loss: 0.0890 - auc_1: 0.9833 - val_loss: 0.2301 - val_auc_1: 0.9722\n",
      "Epoch 55/80\n",
      "126/126 [==============================] - 2s 12ms/step - loss: 0.0978 - auc_1: 0.9718 - val_loss: 0.1351 - val_auc_1: 0.9670\n",
      "Epoch 56/80\n",
      "126/126 [==============================] - 2s 12ms/step - loss: 0.0799 - auc_1: 0.9828 - val_loss: 0.1694 - val_auc_1: 0.9725\n",
      "Epoch 57/80\n",
      "126/126 [==============================] - 2s 13ms/step - loss: 0.0802 - auc_1: 0.9848 - val_loss: 0.3156 - val_auc_1: 0.9703\n",
      "Epoch 58/80\n",
      "126/126 [==============================] - 2s 13ms/step - loss: 0.0666 - auc_1: 0.9881 - val_loss: 0.1280 - val_auc_1: 0.9769\n",
      "Epoch 59/80\n",
      "126/126 [==============================] - 1s 12ms/step - loss: 0.0797 - auc_1: 0.9805 - val_loss: 0.2181 - val_auc_1: 0.9699\n",
      "Epoch 60/80\n"
     ]
    },
    {
     "name": "stdout",
     "output_type": "stream",
     "text": [
      "126/126 [==============================] - 1s 11ms/step - loss: 0.0753 - auc_1: 0.9854 - val_loss: 0.5062 - val_auc_1: 0.9722\n",
      "Epoch 61/80\n",
      "126/126 [==============================] - 1s 11ms/step - loss: 0.0629 - auc_1: 0.9888 - val_loss: 0.1988 - val_auc_1: 0.9690\n",
      "Epoch 62/80\n",
      "126/126 [==============================] - 2s 12ms/step - loss: 0.0872 - auc_1: 0.9810 - val_loss: 0.1371 - val_auc_1: 0.9740\n",
      "Epoch 63/80\n",
      "126/126 [==============================] - 2s 12ms/step - loss: 0.0813 - auc_1: 0.9844 - val_loss: 0.1522 - val_auc_1: 0.9765\n",
      "Epoch 64/80\n",
      "126/126 [==============================] - 2s 12ms/step - loss: 0.0661 - auc_1: 0.9874 - val_loss: 0.2023 - val_auc_1: 0.9735\n",
      "Epoch 65/80\n",
      "126/126 [==============================] - 2s 12ms/step - loss: 0.0681 - auc_1: 0.9879 - val_loss: 0.3425 - val_auc_1: 0.9649\n",
      "Epoch 66/80\n",
      "126/126 [==============================] - 1s 12ms/step - loss: 0.0611 - auc_1: 0.9889 - val_loss: 0.3034 - val_auc_1: 0.9635\n",
      "Epoch 67/80\n",
      "126/126 [==============================] - 2s 13ms/step - loss: 0.0480 - auc_1: 0.9910 - val_loss: 0.1577 - val_auc_1: 0.9671\n",
      "Epoch 68/80\n",
      "126/126 [==============================] - 2s 14ms/step - loss: 0.0467 - auc_1: 0.9907 - val_loss: 0.1803 - val_auc_1: 0.9629\n",
      "Epoch 69/80\n",
      "126/126 [==============================] - 2s 13ms/step - loss: 0.0460 - auc_1: 0.9927 - val_loss: 0.3755 - val_auc_1: 0.9680\n",
      "Epoch 70/80\n",
      "126/126 [==============================] - 2s 14ms/step - loss: 0.0531 - auc_1: 0.9907 - val_loss: 0.3071 - val_auc_1: 0.9691\n",
      "Epoch 71/80\n",
      "126/126 [==============================] - 2s 12ms/step - loss: 0.0452 - auc_1: 0.9939 - val_loss: 0.4061 - val_auc_1: 0.9720\n",
      "Epoch 72/80\n",
      "126/126 [==============================] - 1s 12ms/step - loss: 0.0373 - auc_1: 0.9935 - val_loss: 0.4194 - val_auc_1: 0.9691\n",
      "Epoch 73/80\n",
      "126/126 [==============================] - 1s 11ms/step - loss: 0.0410 - auc_1: 0.9935 - val_loss: 0.3192 - val_auc_1: 0.9709\n",
      "Epoch 74/80\n",
      "126/126 [==============================] - 1s 11ms/step - loss: 0.0359 - auc_1: 0.9959 - val_loss: 0.2724 - val_auc_1: 0.9665\n",
      "Epoch 75/80\n",
      "126/126 [==============================] - 1s 11ms/step - loss: 0.0539 - auc_1: 0.9907 - val_loss: 0.2384 - val_auc_1: 0.9640\n",
      "Epoch 76/80\n",
      "126/126 [==============================] - 1s 11ms/step - loss: 0.0443 - auc_1: 0.9911 - val_loss: 0.3999 - val_auc_1: 0.9614\n",
      "Epoch 77/80\n",
      "126/126 [==============================] - 1s 11ms/step - loss: 0.0376 - auc_1: 0.9920 - val_loss: 0.1565 - val_auc_1: 0.9646\n",
      "Epoch 78/80\n",
      "126/126 [==============================] - 2s 13ms/step - loss: 0.0418 - auc_1: 0.9946 - val_loss: 0.3694 - val_auc_1: 0.9705\n",
      "Epoch 79/80\n",
      "126/126 [==============================] - 1s 12ms/step - loss: 0.0642 - auc_1: 0.9903 - val_loss: 0.1502 - val_auc_1: 0.9667\n",
      "Epoch 80/80\n",
      "126/126 [==============================] - 1s 11ms/step - loss: 0.0418 - auc_1: 0.9934 - val_loss: 0.1551 - val_auc_1: 0.9652\n"
     ]
    }
   ],
   "source": [
    "history = model.fit(x_train_emb, y_train_emb, validation_split=0.1, epochs=80)"
   ]
  },
  {
   "cell_type": "markdown",
   "id": "707c2c53",
   "metadata": {},
   "source": [
    "### Model Evaluation"
   ]
  },
  {
   "cell_type": "code",
   "execution_count": 24,
   "id": "1b2b63cd",
   "metadata": {},
   "outputs": [
    {
     "name": "stdout",
     "output_type": "stream",
     "text": [
      "35/35 [==============================] - 0s 5ms/step - loss: 0.1220 - auc_1: 0.9881\n"
     ]
    },
    {
     "data": {
      "text/plain": [
       "[0.12196095287799835, 0.9881206154823303]"
      ]
     },
     "execution_count": 24,
     "metadata": {},
     "output_type": "execute_result"
    }
   ],
   "source": [
    "model.evaluate(x_test_emb, y_test_emb)"
   ]
  },
  {
   "cell_type": "markdown",
   "id": "790c6009",
   "metadata": {},
   "source": [
    "### Grapth of AUC Score"
   ]
  },
  {
   "cell_type": "code",
   "execution_count": 26,
   "id": "f41c317d",
   "metadata": {},
   "outputs": [
    {
     "data": {
      "image/png": "[encoded data removed]",
      "text/plain": [
       "<Figure size 432x288 with 1 Axes>"
      ]
     },
     "metadata": {
      "needs_background": "light"
     },
     "output_type": "display_data"
    }
   ],
   "source": [
    "plt.plot(history.history['auc_1'], label='AUC on Train')\n",
    "plt.plot(history.history['val_auc_1'], label='AUC on Test')\n",
    "\n",
    "plt.xlabel('Epochs')\n",
    "plt.ylabel('Score')\n",
    "plt.legend();"
   ]
  },
  {
   "cell_type": "markdown",
   "id": "ed4bd7ef",
   "metadata": {},
   "source": [
    "### Embedding + LSTM NN"
   ]
  },
  {
   "cell_type": "code",
   "execution_count": 27,
   "id": "6e2c09bb",
   "metadata": {},
   "outputs": [],
   "source": [
    "from keras.layers import LSTM, Bidirectional"
   ]
  },
  {
   "cell_type": "code",
   "execution_count": 28,
   "id": "9d2af47e",
   "metadata": {},
   "outputs": [],
   "source": [
    "mdoel = Sequential()\n",
    "\n",
    "model.add(Embedding(max_words, 128, input_length=max_len))\n",
    "model.add(SpatialDropout1D(0.25))\n",
    "\n",
    "model.add(BatchNormalization())\n",
    "model.add(Bidirectional(LSTM(16, return_sequences=True)))\n",
    "model.add(Dropout(0.25))\n",
    "\n",
    "model.add(BatchNormalization())\n",
    "model.add(Bidirectional(LSTM(32, return_sequences=False)))\n",
    "model.add(Dropout(0.25))\n",
    "\n",
    "model.add(BatchNormalization())\n",
    "model.add(Dense(128, activation='relu'))\n",
    "model.add(Dropout(0.5))\n",
    "\n",
    "model.add(Dense(1, activation='sigmoid'))"
   ]
  },
  {
   "cell_type": "code",
   "execution_count": 29,
   "id": "914c840e",
   "metadata": {},
   "outputs": [
    {
     "name": "stdout",
     "output_type": "stream",
     "text": [
      "Model: \"sequential_1\"\n",
      "_________________________________________________________________\n",
      " Layer (type)                Output Shape              Param #   \n",
      "=================================================================\n",
      " embedding (Embedding)       (None, 200, 64)           3840000   \n",
      "                                                                 \n",
      " spatial_dropout1d (SpatialD  (None, 200, 64)          0         \n",
      " ropout1D)                                                       \n",
      "                                                                 \n",
      " flatten (Flatten)           (None, 12800)             0         \n",
      "                                                                 \n",
      " batch_normalization_7 (Batc  (None, 12800)            51200     \n",
      " hNormalization)                                                 \n",
      "                                                                 \n",
      " dense_15 (Dense)            (None, 64)                819264    \n",
      "                                                                 \n",
      " dense_16 (Dense)            (None, 64)                4160      \n",
      "                                                                 \n",
      " dropout_7 (Dropout)         (None, 64)                0         \n",
      "                                                                 \n",
      " batch_normalization_8 (Batc  (None, 64)               256       \n",
      " hNormalization)                                                 \n",
      "                                                                 \n",
      " dense_17 (Dense)            (None, 128)               8320      \n",
      "                                                                 \n",
      " dense_18 (Dense)            (None, 128)               16512     \n",
      "                                                                 \n",
      " dropout_8 (Dropout)         (None, 128)               0         \n",
      "                                                                 \n",
      " batch_normalization_9 (Batc  (None, 128)              512       \n",
      " hNormalization)                                                 \n",
      "                                                                 \n",
      " dense_19 (Dense)            (None, 256)               33024     \n",
      "                                                                 \n",
      " dense_20 (Dense)            (None, 256)               65792     \n",
      "                                                                 \n",
      " dropout_9 (Dropout)         (None, 256)               0         \n",
      "                                                                 \n",
      " batch_normalization_10 (Bat  (None, 256)              1024      \n",
      " chNormalization)                                                \n",
      "                                                                 \n",
      " dense_21 (Dense)            (None, 512)               131584    \n",
      "                                                                 \n",
      " dense_22 (Dense)            (None, 512)               262656    \n",
      "                                                                 \n",
      " dropout_10 (Dropout)        (None, 512)               0         \n",
      "                                                                 \n",
      " dense_23 (Dense)            (None, 1)                 513       \n",
      "                                                                 \n",
      " embedding_1 (Embedding)     (None, 1, 128)            7680000   \n",
      "                                                                 \n",
      " spatial_dropout1d_1 (Spatia  (None, 1, 128)           0         \n",
      " lDropout1D)                                                     \n",
      "                                                                 \n",
      " batch_normalization_11 (Bat  (None, 1, 128)           512       \n",
      " chNormalization)                                                \n",
      "                                                                 \n",
      " bidirectional (Bidirectiona  (None, 1, 32)            18560     \n",
      " l)                                                              \n",
      "                                                                 \n",
      " dropout_11 (Dropout)        (None, 1, 32)             0         \n",
      "                                                                 \n",
      " batch_normalization_12 (Bat  (None, 1, 32)            128       \n",
      " chNormalization)                                                \n",
      "                                                                 \n",
      " bidirectional_1 (Bidirectio  (None, 64)               16640     \n",
      " nal)                                                            \n",
      "                                                                 \n",
      " dropout_12 (Dropout)        (None, 64)                0         \n",
      "                                                                 \n",
      " batch_normalization_13 (Bat  (None, 64)               256       \n",
      " chNormalization)                                                \n",
      "                                                                 \n",
      " dense_24 (Dense)            (None, 128)               8320      \n",
      "                                                                 \n",
      " dropout_13 (Dropout)        (None, 128)               0         \n",
      "                                                                 \n",
      " dense_25 (Dense)            (None, 1)                 129       \n",
      "                                                                 \n",
      "=================================================================\n",
      "Total params: 12,959,362\n",
      "Trainable params: 12,932,418\n",
      "Non-trainable params: 26,944\n",
      "_________________________________________________________________\n"
     ]
    }
   ],
   "source": [
    "model.summary()"
   ]
  },
  {
   "cell_type": "code",
   "execution_count": 30,
   "id": "81884a8f",
   "metadata": {},
   "outputs": [],
   "source": [
    "model.compile(loss='binary_crossentropy', optimizer='sgd', metrics=[AUC()])"
   ]
  },
  {
   "cell_type": "code",
   "execution_count": 31,
   "id": "ca094167",
   "metadata": {},
   "outputs": [
    {
     "name": "stdout",
     "output_type": "stream",
     "text": [
      "Epoch 1/25\n",
      "WARNING:tensorflow:Gradients do not exist for variables ['embedding/embeddings:0', 'batch_normalization_7/gamma:0', 'batch_normalization_7/beta:0', 'dense_15/kernel:0', 'dense_15/bias:0', 'dense_16/kernel:0', 'dense_16/bias:0', 'batch_normalization_8/gamma:0', 'batch_normalization_8/beta:0', 'dense_17/kernel:0', 'dense_17/bias:0', 'dense_18/kernel:0', 'dense_18/bias:0', 'batch_normalization_9/gamma:0', 'batch_normalization_9/beta:0', 'dense_19/kernel:0', 'dense_19/bias:0', 'dense_20/kernel:0', 'dense_20/bias:0', 'batch_normalization_10/gamma:0', 'batch_normalization_10/beta:0', 'dense_21/kernel:0', 'dense_21/bias:0', 'dense_22/kernel:0', 'dense_22/bias:0', 'dense_23/kernel:0', 'dense_23/bias:0'] when minimizing the loss. If you're using `model.compile()`, did you forget to provide a `loss`argument?\n",
      "WARNING:tensorflow:Gradients do not exist for variables ['embedding/embeddings:0', 'batch_normalization_7/gamma:0', 'batch_normalization_7/beta:0', 'dense_15/kernel:0', 'dense_15/bias:0', 'dense_16/kernel:0', 'dense_16/bias:0', 'batch_normalization_8/gamma:0', 'batch_normalization_8/beta:0', 'dense_17/kernel:0', 'dense_17/bias:0', 'dense_18/kernel:0', 'dense_18/bias:0', 'batch_normalization_9/gamma:0', 'batch_normalization_9/beta:0', 'dense_19/kernel:0', 'dense_19/bias:0', 'dense_20/kernel:0', 'dense_20/bias:0', 'batch_normalization_10/gamma:0', 'batch_normalization_10/beta:0', 'dense_21/kernel:0', 'dense_21/bias:0', 'dense_22/kernel:0', 'dense_22/bias:0', 'dense_23/kernel:0', 'dense_23/bias:0'] when minimizing the loss. If you're using `model.compile()`, did you forget to provide a `loss`argument?\n",
      "126/126 [==============================] - 10s 30ms/step - loss: 0.5432 - auc_2: 0.4872 - val_loss: 0.5965 - val_auc_2: 0.5000\n",
      "Epoch 2/25\n",
      "126/126 [==============================] - 2s 18ms/step - loss: 0.4540 - auc_2: 0.4884 - val_loss: 0.5776 - val_auc_2: 0.5000\n",
      "Epoch 3/25\n",
      "126/126 [==============================] - 2s 18ms/step - loss: 0.4375 - auc_2: 0.5175 - val_loss: 0.5592 - val_auc_2: 0.5000\n",
      "Epoch 4/25\n",
      "126/126 [==============================] - 2s 19ms/step - loss: 0.4387 - auc_2: 0.5024 - val_loss: 0.4919 - val_auc_2: 0.5000\n",
      "Epoch 5/25\n",
      "126/126 [==============================] - 2s 19ms/step - loss: 0.4349 - auc_2: 0.5079 - val_loss: 0.4654 - val_auc_2: 0.5000\n",
      "Epoch 6/25\n",
      "126/126 [==============================] - 3s 20ms/step - loss: 0.4400 - auc_2: 0.4893 - val_loss: 0.4958 - val_auc_2: 0.5000\n",
      "Epoch 7/25\n",
      "126/126 [==============================] - 2s 18ms/step - loss: 0.4301 - auc_2: 0.5098 - val_loss: 0.4918 - val_auc_2: 0.5000\n",
      "Epoch 8/25\n",
      "126/126 [==============================] - 2s 19ms/step - loss: 0.4384 - auc_2: 0.4764 - val_loss: 0.5144 - val_auc_2: 0.5000\n",
      "Epoch 9/25\n",
      "126/126 [==============================] - 2s 19ms/step - loss: 0.4236 - auc_2: 0.5160 - val_loss: 0.4867 - val_auc_2: 0.5000\n",
      "Epoch 10/25\n",
      "126/126 [==============================] - 3s 20ms/step - loss: 0.4259 - auc_2: 0.5022 - val_loss: 0.4576 - val_auc_2: 0.5000\n",
      "Epoch 11/25\n",
      "126/126 [==============================] - 2s 19ms/step - loss: 0.4217 - auc_2: 0.5125 - val_loss: 0.4650 - val_auc_2: 0.5000\n",
      "Epoch 12/25\n",
      "126/126 [==============================] - 2s 19ms/step - loss: 0.4223 - auc_2: 0.5053 - val_loss: 0.4808 - val_auc_2: 0.5000\n",
      "Epoch 13/25\n",
      "126/126 [==============================] - 3s 21ms/step - loss: 0.4227 - auc_2: 0.4995 - val_loss: 0.4966 - val_auc_2: 0.5000\n",
      "Epoch 14/25\n",
      "126/126 [==============================] - 3s 20ms/step - loss: 0.4176 - auc_2: 0.5142 - val_loss: 0.4674 - val_auc_2: 0.5000\n",
      "Epoch 15/25\n",
      "126/126 [==============================] - 2s 19ms/step - loss: 0.4179 - auc_2: 0.5085 - val_loss: 0.4877 - val_auc_2: 0.5000\n",
      "Epoch 16/25\n",
      "126/126 [==============================] - 2s 19ms/step - loss: 0.4199 - auc_2: 0.5014 - val_loss: 0.5069 - val_auc_2: 0.5000\n",
      "Epoch 17/25\n",
      "126/126 [==============================] - 2s 19ms/step - loss: 0.4198 - auc_2: 0.5051 - val_loss: 0.5009 - val_auc_2: 0.5000\n",
      "Epoch 18/25\n",
      "126/126 [==============================] - 2s 19ms/step - loss: 0.4185 - auc_2: 0.4993 - val_loss: 0.4795 - val_auc_2: 0.5000\n",
      "Epoch 19/25\n",
      "126/126 [==============================] - 3s 26ms/step - loss: 0.4185 - auc_2: 0.4963 - val_loss: 0.4975 - val_auc_2: 0.5000\n",
      "Epoch 20/25\n",
      "126/126 [==============================] - 3s 21ms/step - loss: 0.4172 - auc_2: 0.5057 - val_loss: 0.5034 - val_auc_2: 0.5000\n",
      "Epoch 21/25\n",
      "126/126 [==============================] - 3s 21ms/step - loss: 0.4201 - auc_2: 0.4903 - val_loss: 0.4989 - val_auc_2: 0.5000\n",
      "Epoch 22/25\n",
      "126/126 [==============================] - 3s 22ms/step - loss: 0.4170 - auc_2: 0.4970 - val_loss: 0.5125 - val_auc_2: 0.5000\n",
      "Epoch 23/25\n",
      "126/126 [==============================] - 3s 22ms/step - loss: 0.4164 - auc_2: 0.4945 - val_loss: 0.4804 - val_auc_2: 0.5000\n",
      "Epoch 24/25\n",
      "126/126 [==============================] - 3s 20ms/step - loss: 0.4134 - auc_2: 0.5152 - val_loss: 0.4741 - val_auc_2: 0.5000\n",
      "Epoch 25/25\n",
      "126/126 [==============================] - 3s 21ms/step - loss: 0.4145 - auc_2: 0.5013 - val_loss: 0.4926 - val_auc_2: 0.5000\n"
     ]
    }
   ],
   "source": [
    "history = model.fit(x_train_emb, y_train_emb, validation_split=0.1, epochs=25)"
   ]
  },
  {
   "cell_type": "code",
   "execution_count": 32,
   "id": "9d21da60",
   "metadata": {},
   "outputs": [
    {
     "name": "stdout",
     "output_type": "stream",
     "text": [
      "35/35 [==============================] - 0s 8ms/step - loss: 0.4874 - auc_2: 0.5000\n"
     ]
    },
    {
     "data": {
      "text/plain": [
       "[0.48741352558135986, 0.5]"
      ]
     },
     "execution_count": 32,
     "metadata": {},
     "output_type": "execute_result"
    }
   ],
   "source": [
    "model.evaluate(x_test_emb, y_test_emb)"
   ]
  },
  {
   "cell_type": "code",
   "execution_count": 34,
   "id": "c7c3b88b",
   "metadata": {},
   "outputs": [
    {
     "data": {
      "image/png": "[encoded data removed]",
      "text/plain": [
       "<Figure size 432x288 with 1 Axes>"
      ]
     },
     "metadata": {
      "needs_background": "light"
     },
     "output_type": "display_data"
    }
   ],
   "source": [
    "plt.plot(history.history['auc_2'], label='AUC on train')\n",
    "plt.plot(history.history['val_auc_2'],  label='AUC on test')\n",
    "plt.xlabel('Epoch')\n",
    "plt.ylabel('Score')\n",
    "plt.legend()\n",
    "plt.show()"
   ]
  },
  {
   "cell_type": "code",
   "execution_count": null,
   "id": "f99cf2a6",
   "metadata": {},
   "outputs": [],
   "source": []
  }
 ],
 "metadata": {
  "kernelspec": {
   "display_name": "Python 3 (ipykernel)",
   "language": "python",
   "name": "python3"
  },
  "language_info": {
   "codemirror_mode": {
    "name": "ipython",
    "version": 3
   },
   "file_extension": ".py",
   "mimetype": "text/x-python",
   "name": "python",
   "nbconvert_exporter": "python",
   "pygments_lexer": "ipython3",
   "version": "3.9.12"
  }
 },
 "nbformat": 4,
 "nbformat_minor": 5
}
